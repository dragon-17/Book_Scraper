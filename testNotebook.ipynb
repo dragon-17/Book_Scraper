{
 "cells": [
  {
   "cell_type": "markdown",
   "metadata": {},
   "source": [
    "<b>Dieses Notebook enthält den Scrapper </b>\\\n",
    "Es kann bis zum ersten aufruf von scrape() problemlos ausgeführt werden"
   ]
  },
  {
   "cell_type": "code",
   "execution_count": 1,
   "metadata": {},
   "outputs": [],
   "source": [
    "from selenium import webdriver\n",
    "from selenium.webdriver.common.keys import Keys\n",
    "from selenium.webdriver.common.by import By\n",
    "from selenium.webdriver.chrome.options import Options\n",
    "from time import sleep\n",
    "import typing\n",
    "import pickle\n",
    "from bs4 import BeautifulSoup\n",
    "from selenium.webdriver.chrome.webdriver import WebDriver\n",
    "import random\n",
    "import json"
   ]
  },
  {
   "cell_type": "code",
   "execution_count": 2,
   "metadata": {},
   "outputs": [],
   "source": [
    "html_source = \"No\"\n",
    "url=\"https://www.worldometers.info/world-population/population-by-country/\"\n",
    "url=\"https://www.thalia.de/shop/home/artikeldetails/A1000847310\"  #Bleach\n",
    "url=\"https://www.thalia.de/shop/home/artikeldetails/A1063615999\"  #Star Wars"
   ]
  },
  {
   "cell_type": "code",
   "execution_count": 3,
   "metadata": {},
   "outputs": [],
   "source": [
    "def printInfo(browser:WebDriver):\n",
    "    print(browser.title)\n",
    "    print(browser.current_url)\n",
    "    driver_ua = browser.execute_script(\"return navigator.userAgent\")\n",
    "    print(\"User agent:\",driver_ua)\n",
    "\n",
    "def clickDetailsBut(browser:WebDriver):\n",
    "    #detail_but= browser.find_element(By.CSS_SELECTOR,\"button[data-dialog='details']\")\n",
    "    #click on detail button with js\n",
    "    outerButHTML_str:str = browser.execute_script(r\"let detailbut=document.querySelector('button[data-dialog=\\'details\\']') ;console.log(detailbut); detailbut.click(); detailbut.outerHTML\")\n",
    "    print(outerButHTML_str)\n",
    "def declineCookies(browser:WebDriver):\n",
    "    #browser.execute_script(r\"let cookie=document.querySelector('#usercentrics-root');let but=cookie.shadowRoot.querySelector('button[data-testid=\\\"uc-deny-all-button\\\"]').click();return but.outerHTML\")\n",
    "    browser.execute_script(r\"try{ let cookie=document.querySelector('#usercentrics-root');let but=cookie.shadowRoot.querySelector('button[data-testid=\\\"uc-deny-all-button\\\"]').click();return but.outerHTML}catch(e){console.log('error at accepting cookies ;ignore it')}\")\n",
    "\n"
   ]
  },
  {
   "cell_type": "code",
   "execution_count": 4,
   "metadata": {},
   "outputs": [],
   "source": [
    "my_user_agent=\"Mozilla/5.0 (Windows NT 10.0; Win64; x64) AppleWebKit/537.36 (KHTML, like Gecko) Chrome/123.0.0.0 Safari/537.36\"\n",
    "my_user_agent=\"Mozilla/5.0 (Windows NT 10.0; Win64; x64) AppleWebKit/537.36 (KHTML, like Gecko) Chrome/123.0.0.0 Safari/537.36 Edg/123.0.0.0\"\n",
    "# Set up Chrome options\n",
    "chrome_options = Options()\n",
    "chrome_options.add_argument(\"--headless=false\")\n",
    "\n",
    "# Set the custom User-Agent\n",
    "chrome_options.add_argument(f\"--user-agent={my_user_agent}\")"
   ]
  },
  {
   "cell_type": "code",
   "execution_count": 17,
   "metadata": {},
   "outputs": [],
   "source": [
    "# nur ein test ob Selenium tatsächlic läuft\n",
    "def testSelenium():\n",
    "    # dies Zeile benötigt einen Chrome driver der in env-var bekannt ist\n",
    "    # alternativ:   driver = webdriver.Chrome('./chromedriver') <- wenn driver in gleichen Ordner ist\n",
    "    #try:\n",
    "    browser= webdriver.Chrome()\n",
    "    browser.get(url)\n",
    "\n",
    "    html_source= browser.page_source\n",
    "    printInfo(browser)\n",
    "\n",
    "    sleep(1)\n",
    "\n",
    "    #decline cookies\n",
    "    declineCookies(browser)\n",
    "    sleep(1)\n",
    "    clickDetailsBut(browser)\n",
    "\n",
    "    sleep(5)\n",
    "    browser.execute_script('window.location=\"https://www.thalia.de/shop/home/artikeldetails/A1020323321\"')\n",
    "    sleep(3)\n",
    "    next_html=browser.page_source\n",
    "\n",
    "    sleep(5)\n",
    "    browser.execute_script('window.location=\"https://www.thalia.de/shop/home/artikeldetails/A1020881790\"')\n",
    "    sleep(3)\n",
    "    next_html_pp=browser.page_source\n",
    "\n",
    "    sleep(3)\n",
    "    browser.close()\n",
    "    #except Exception as e:\n",
    "    #  print(\"Webdriver preumably closed\",e)\n"
   ]
  },
  {
   "cell_type": "code",
   "execution_count": 6,
   "metadata": {},
   "outputs": [
    {
     "data": {
      "text/plain": [
       "'No'"
      ]
     },
     "execution_count": 6,
     "metadata": {},
     "output_type": "execute_result"
    }
   ],
   "source": [
    "html_source"
   ]
  },
  {
   "cell_type": "code",
   "execution_count": 7,
   "metadata": {},
   "outputs": [],
   "source": [
    "soup = BeautifulSoup(html_source, \"html.parser\") "
   ]
  },
  {
   "cell_type": "code",
   "execution_count": 8,
   "metadata": {},
   "outputs": [
    {
     "data": {
      "text/plain": [
       "[]"
      ]
     },
     "execution_count": 8,
     "metadata": {},
     "output_type": "execute_result"
    }
   ],
   "source": [
    "soup.select(\".kurzbeschreibung\")[0:3]"
   ]
  },
  {
   "cell_type": "markdown",
   "metadata": {},
   "source": [
    "<b>Die Methode die das DOM/Soup einer Webseite nimmt und die wichtigen Infos extrahiert "
   ]
  },
  {
   "cell_type": "code",
   "execution_count": 9,
   "metadata": {},
   "outputs": [],
   "source": [
    "def extract(DOM)->dict:\n",
    "        \n",
    "    details={}\n",
    "    \n",
    "    title_el= DOM.select_one (\"section.basis-informationen h1\")\n",
    "    details[\"Titel\"] = title_el.text if title_el != None else \"\"\n",
    "\n",
    "    autors_el_list= DOM.select(\"a.autor-name\")\n",
    "    details[\"Autor\"] = [autor.text for autor in autors_el_list ]\n",
    "\n",
    "    short_Desc_el= DOM.select_one (\"section.basis-informationen .untertitel\")\n",
    "    details[\"KurzBesch\"] = short_Desc_el.text if short_Desc_el != None else \"\"\n",
    "\n",
    "    extra_Info_el= DOM.select_one (\"section.basis-informationen ul+ p\")\n",
    "    details[\"ExtraInfo\"] = extra_Info_el.text if extra_Info_el != None else \"\"\n",
    "\n",
    "    categories_el= DOM.select_one (\"ul.breadcrumb-list\")\n",
    "    details[\"Kategorien\"] =\"\".join(  [cat.strip() for cat in categories_el.text.split()] ) if categories_el != None else \"\"\n",
    "\n",
    "\n",
    "    desc_el= DOM.select_one ('dialog[data-dialog-name=\"zusatztexte\"] section.zusatztext div')\n",
    "    if desc_el ==None: desc_el= DOM.select_one ('.inhalt-beschreibung .kurzbeschreibung')\n",
    "    details[\"Beschreibung\"] = desc_el.text.strip() if desc_el != None else \"\"\n",
    "    \n",
    "    review_el= DOM.select_one('dialog[data-dialog-name=\"zusatztexte\"] section.zusatztext-gruppe p')\n",
    "    details[\"Rezension\"] = review_el.text if review_el != None else \"\"\n",
    "\n",
    "    detail_dialog_div= DOM.select_one(\"dialog[data-dialog-name='details'] div.artikeldetails \")\n",
    "    for el in  detail_dialog_div.find_all(\"section\") if detail_dialog_div!=None else [] :\n",
    "            dia_key_el=el.find('h3', {'class': 'detailbezeichnung'})\n",
    "            val_el=el.select_one(\".single-value, a\")\n",
    "            if dia_key_el !=None  and val_el != None:\n",
    "                details[dia_key_el.text.strip() ]=val_el.text\n",
    "\n",
    "    img_el_list= DOM.select(\"image-zoom picture source, tab-panel picture source\")\n",
    "    details[\"Img\"] = [img['srcset'] for img in img_el_list ]\n",
    "    \n",
    "    #print(details)\n",
    "    return details\n",
    "data=extract(soup)    "
   ]
  },
  {
   "cell_type": "code",
   "execution_count": 10,
   "metadata": {},
   "outputs": [],
   "source": [
    "\n",
    "def save(obj:dict[str,str] ,path:str=\"Data/book_data.1.0\"):\n",
    "    if obj==None: return\n",
    "    with open(path, 'a',encoding= \"utf-8\") as file:\n",
    "        json.dump(obj, file,ensure_ascii=False)\n",
    "        file.write(\"\\n\")\n",
    "#save(data)"
   ]
  },
  {
   "cell_type": "code",
   "execution_count": 11,
   "metadata": {},
   "outputs": [],
   "source": [
    "def pretty(d, indent=0):\n",
    "   for key, value in d.items():\n",
    "      print('\\t' * indent + str(key))\n",
    "      if isinstance(value, dict):\n",
    "         pretty(value, indent+1)\n",
    "      else:\n",
    "         print('\\t' * (indent+1) + str(value))\n",
    "#pretty(data)"
   ]
  },
  {
   "cell_type": "code",
   "execution_count": 12,
   "metadata": {},
   "outputs": [],
   "source": [
    "def loadURLs(path:str=\"TestUrl/1000_test_Urls.txt\"):\n",
    "    with open(path, 'r',encoding= \"utf-8\") as file:\n",
    "        contents = file.read()\n",
    "        return contents.split(\"\\n\") if contents!=None else []"
   ]
  },
  {
   "cell_type": "code",
   "execution_count": 13,
   "metadata": {},
   "outputs": [
    {
     "name": "stdout",
     "output_type": "stream",
     "text": [
      "1152 ['https://www.thalia.de/shop/home/artikeldetails/A1066698677', 'https://www.thalia.de/shop/home/artikeldetails/A1047574159', 'https://www.thalia.de/shop/home/artikeldetails/A1069776105', 'https://www.thalia.de/shop/home/artikeldetails/A1063536656', 'https://www.thalia.de/shop/home/artikeldetails/A1050290421', 'https://www.thalia.de/shop/home/artikeldetails/A1050354428', 'https://www.thalia.de/shop/home/artikeldetails/A1069945964', 'https://www.thalia.de/shop/home/artikeldetails/A1068344029', 'https://www.thalia.de/shop/home/artikeldetails/A1054221230', 'https://www.thalia.de/shop/home/artikeldetails/A1069888647'] ... ['https://www.thalia.de/shop/home/artikeldetails/A1067383475', 'https://www.thalia.de/shop/home/artikeldetails/A1067383360', 'https://www.thalia.de/shop/home/artikeldetails/A1067372013', 'https://www.thalia.de/shop/home/artikeldetails/A1067361992', 'https://www.thalia.de/shop/home/artikeldetails/A1067334401', 'https://www.thalia.de/shop/home/artikeldetails/A1067334306', 'https://www.thalia.de/shop/home/artikeldetails/A1067333653', 'https://www.thalia.de/shop/home/artikeldetails/A1067333754', 'https://www.thalia.de/shop/home/artikeldetails/A1067333711', 'https://www.thalia.de/shop/home/artikeldetails/A1067333835'] \n",
      " https://www.thalia.de/shop/home/artikeldetails/A1054949898\n"
     ]
    }
   ],
   "source": [
    "urlList=loadURLs()\n",
    "print(len( urlList),urlList[0:10],\"...\",urlList[-10:],'\\n',random.choice( urlList) )"
   ]
  },
  {
   "cell_type": "code",
   "execution_count": 14,
   "metadata": {},
   "outputs": [],
   "source": [
    "def dragonMsg(sep:str=\"|#|\"):\n",
    "    print( sep.join([f'\\x1b[{90+(x%8)}m\\U0001f409\\ufe0e' for x in range(0,10)]) ,\"\\n\\n\"+3*\"\\t\"+\"\\x1b[3;37m| (OvO) |\" )"
   ]
  },
  {
   "cell_type": "markdown",
   "metadata": {},
   "source": [
    "Die Scrape Methode\\\n",
    "sie nimmt ein File mit '\\n' separierten Buch-artikel URLS und (!)appendet die Daten in den spezifizierten out_file "
   ]
  },
  {
   "cell_type": "code",
   "execution_count": 15,
   "metadata": {},
   "outputs": [],
   "source": [
    "def scrape(url_path:str,output_file:str):\n",
    "    try:\n",
    "        scrape_urls = loadURLs(url_path)\n",
    "        print(f\"urls length {len(scrape_urls)} {scrape_urls[0:5]} ...{scrape_urls[-5:]}\")\n",
    "    except Exception as e:\n",
    "        print(e,\"something went wrong aborted\")\n",
    "        return\n",
    "\n",
    "    cur_url_index=0\n",
    "    browser:WebDriver= webdriver.Chrome()\n",
    "    browser.get(scrape_urls[0])\n",
    "    sleep(1)\n",
    "    declineCookies(browser)\n",
    "    sleep(3)\n",
    "\n",
    "    error_counter=0\n",
    "    for current_url in scrape_urls:\n",
    "        try:\n",
    "            if(current_url== \"\"):cur_url_index+=1;continue\n",
    "            if(cur_url_index!=0):\n",
    "                #!!! important\n",
    "                sleep(4+ 1*random.random())\n",
    "                browser.execute_script(f'window.location=\"{current_url}\"')\n",
    "                sleep(1)\n",
    "            \n",
    "            cur_html= browser.page_source\n",
    "            cur_DOM=BeautifulSoup(cur_html,\"html.parser\")\n",
    "            extr_dat=extract(cur_DOM)\n",
    "            extr_dat[\"url\"]=current_url\n",
    "            #print(\"Page title\",browser.title,\"\\n\",extr_dat)\n",
    "            save(extr_dat,output_file)\n",
    "        except:\n",
    "            error_counter+=1\n",
    "            print(f\"something went wrong at {current_url}-- skiped to next err_count:{error_counter}\")  \n",
    "            if error_counter>10: print(\"abour err_count to high\"); return\n",
    "            \n",
    "        cur_url_index+=1\n",
    "      \n",
    "    browser.close()\n",
    "    dragonMsg()\n",
    "    print(\"finshed succesfully\\n\")    "
   ]
  },
  {
   "cell_type": "markdown",
   "metadata": {},
   "source": [
    "<b>Das startet einen Browser und beginnt das scrapen\\\n",
    "Nur ausführen wenn gewollt!\\\n",
    "<i>Das ist ein kleiner Test mit nur 10 URLs im file"
   ]
  },
  {
   "cell_type": "code",
   "execution_count": 16,
   "metadata": {},
   "outputs": [
    {
     "name": "stdout",
     "output_type": "stream",
     "text": [
      "urls length 11 ['https://www.thalia.de/shop/home/artikeldetails/A1067810523', 'https://www.thalia.de/shop/home/artikeldetails/A1067806323', 'https://www.thalia.de/shop/home/artikeldetails/A1067811159', 'https://www.thalia.de/shop/home/artikeldetails/A1067800008', 'https://www.thalia.de/shop/home/artikeldetails/A1067795103'] ...['https://www.thalia.de/shop/home/artikeldetails/A1067792440', 'https://www.thalia.de/shop/home/artikeldetails/A1067787314', 'https://www.thalia.de/shop/home/artikeldetails/A1067787285', 'https://www.thalia.de/shop/home/artikeldetails/A1067788334', '']\n",
      "\u001b[90m🐉︎|#|\u001b[91m🐉︎|#|\u001b[92m🐉︎|#|\u001b[93m🐉︎|#|\u001b[94m🐉︎|#|\u001b[95m🐉︎|#|\u001b[96m🐉︎|#|\u001b[97m🐉︎|#|\u001b[90m🐉︎|#|\u001b[91m🐉︎ \n",
      "\n",
      "\t\t\t\u001b[3;37m| (OvO) |\n",
      "finshed succesfully\n",
      "\n"
     ]
    }
   ],
   "source": [
    "scrape(\"TestURL/10_test_Urls.txt\",\"Data/10_test_Urls_data.jsonl\" )"
   ]
  },
  {
   "cell_type": "markdown",
   "metadata": {},
   "source": [
    "<b> Das braucht mindesten 2h!"
   ]
  },
  {
   "cell_type": "code",
   "execution_count": 16,
   "metadata": {},
   "outputs": [
    {
     "name": "stdout",
     "output_type": "stream",
     "text": [
      "urls length 1152 ['https://www.thalia.de/shop/home/artikeldetails/A1066698677', 'https://www.thalia.de/shop/home/artikeldetails/A1047574159', 'https://www.thalia.de/shop/home/artikeldetails/A1069776105', 'https://www.thalia.de/shop/home/artikeldetails/A1063536656', 'https://www.thalia.de/shop/home/artikeldetails/A1050290421'] ...['https://www.thalia.de/shop/home/artikeldetails/A1067334306', 'https://www.thalia.de/shop/home/artikeldetails/A1067333653', 'https://www.thalia.de/shop/home/artikeldetails/A1067333754', 'https://www.thalia.de/shop/home/artikeldetails/A1067333711', 'https://www.thalia.de/shop/home/artikeldetails/A1067333835']\n",
      "\u001b[90m🐉︎\u001b[91m🐉︎\u001b[92m🐉︎\u001b[93m🐉︎\u001b[94m🐉︎\u001b[95m🐉︎\u001b[96m🐉︎\u001b[97m🐉︎\u001b[90m🐉︎\u001b[91m🐉︎ \n",
      "\n",
      "\t\t\t\u001b[3;37m| (OvO) |\n",
      "finshed succesfully\n",
      "\n"
     ]
    }
   ],
   "source": [
    "scrape(\"TestURL/1000_test_Urls.txt\",\"Data/1000_test_Urls_data.txt\" )"
   ]
  },
  {
   "cell_type": "markdown",
   "metadata": {},
   "source": [
    "Diese Methode erstellt ein URL file von Buch-artikelseiten\\\n",
    "die von ihr erstellten files können für die scrape Methode verwendet werden\\\n",
    "Sie braucht entweder einen categorie URL oder einen such URL.\n",
    "<li> alle category urls kann  von thalia sich geben mit https://www.thalia.de/sitemaps/kategorie/kategorie.xml \\\n",
    "(ist schon extrahiert in Ordner Test/URL/categorieurl.txt)\n",
    "<li>Oder man geht auf die thalia Webseite und sucht irgendetwas und kopiert sich den url raus.\\\n",
    "Die Suche hat unten einen [weitere laden] Knopf, dieser wird solange gerückt bis alle geladen sind oder eine Obergrenze erreicht ist. Dann werden all Verweise der Seite auf Buchseiten extrahiert und in ein FIle geschrieben"
   ]
  },
  {
   "cell_type": "code",
   "execution_count": 55,
   "metadata": {},
   "outputs": [],
   "source": [
    "# goes to a kategorie site and clicks the \"weitere laden button until no more remaining click are there\n",
    "# and saves all link of saerch results to a file\n",
    "def collect_urls(search_url:str,output_file:str=\"default\"):\n",
    "    browser:WebDriver= webdriver.Chrome()\n",
    "    browser.get(search_url)\n",
    "    sleep(1)\n",
    "    declineCookies(browser)\n",
    "    sleep(1)\n",
    "    cat_urls= browser.execute_script(r''' \n",
    "let $=document.querySelector.bind(document);\n",
    "let $A=document.querySelectorAll.bind(document);\n",
    "const sleep= async(m_time)=> await new Promise(resolve => setTimeout(resolve,1000*m_time));\n",
    "let weiter_laden=$(\"button[interaction=weitere-ergebnisse-laden]\")\n",
    "weiter_laden.click();\n",
    "await sleep(3);\n",
    "weiter_laden.click();\n",
    "await sleep(3);\n",
    "let amount=$(\".element-text-standard-strong.ergebnisanzeige\")\n",
    "let amountsar=   amount.innerText.split(/\\D+/).slice(0,2).map(x=>+x)\n",
    "let remaining=amountsar[1]-amountsar[0];\n",
    "let max_click=100;\n",
    "while(max_click>0&&remaining>0){\n",
    "           max_click--;     \n",
    "weiter_laden.click();                      \n",
    "await sleep(1);\n",
    "amountsar=   amount.innerText.split(/\\D+/).slice(0,2).map(x=>+x)\n",
    "remaining=amountsar[1]-amountsar[0];\n",
    "}                                                                            \n",
    "let all_links=[...$A(\"a[caption=suchergebnis-klick]\")].map(x=>x.href)  \n",
    "return    [...new Set(all_links)].join(\"\\n\")                                                                      \n",
    "''')\n",
    "    print(cat_urls)\n",
    "    used_out_file=\"TestUrl/\"\n",
    "    if output_file==\"default\":\n",
    "        category=search_url.split(\"/\")[-1]\n",
    "        if category==\"\":category=  search_url.split(\"/\")[-2]\n",
    "        used_out_file+=category+\".txt\"\n",
    "    else:\n",
    "        used_out_file=output_file\n",
    "    print(f\"found urls were written to {used_out_file}\")\n",
    "    with open(used_out_file, 'w',encoding= \"utf-8\") as file:\n",
    "        file.write(cat_urls)\n",
    "    \n",
    "    #browser.close()\n",
    "    sleep(10)\n",
    "    dragonMsg()\n",
    "    print(\"finshed succesfully\\n\")  "
   ]
  },
  {
   "cell_type": "markdown",
   "metadata": {},
   "source": [
    "Führt es aus"
   ]
  },
  {
   "cell_type": "code",
   "execution_count": 58,
   "metadata": {},
   "outputs": [],
   "source": [
    "collect_urls(\"https://www.thalia.de/kategorie/feste-partys-9422/\")"
   ]
  },
  {
   "cell_type": "code",
   "execution_count": 59,
   "metadata": {},
   "outputs": [
    {
     "name": "stdout",
     "output_type": "stream",
     "text": [
      "urls length 309 ['https://www.thalia.de/shop/home/artikeldetails/A1070043630', 'https://www.thalia.de/shop/home/artikeldetails/A1059167496', 'https://www.thalia.de/shop/home/artikeldetails/A1062298141', 'https://www.thalia.de/shop/home/artikeldetails/A1042663896', 'https://www.thalia.de/shop/home/artikeldetails/A1071044009'] ...['https://www.thalia.de/shop/home/artikeldetails/A1058207959', 'https://www.thalia.de/shop/home/artikeldetails/A1059326648', 'https://www.thalia.de/shop/home/artikeldetails/A1058306854', 'https://www.thalia.de/shop/home/artikeldetails/A1058264123', 'https://www.thalia.de/shop/home/artikeldetails/A1058230338']\n",
      "\u001b[90m🐉︎|#|\u001b[91m🐉︎|#|\u001b[92m🐉︎|#|\u001b[93m🐉︎|#|\u001b[94m🐉︎|#|\u001b[95m🐉︎|#|\u001b[96m🐉︎|#|\u001b[97m🐉︎|#|\u001b[90m🐉︎|#|\u001b[91m🐉︎ \n",
      "\n",
      "\t\t\t\u001b[3;37m| (OvO) |\n",
      "finshed succesfully\n",
      "\n"
     ]
    }
   ],
   "source": [
    "scrape(\"TestURL/feste-partys-9422.txt\",\"Data/feste-partys-9422.jsonl\" )"
   ]
  },
  {
   "cell_type": "code",
   "execution_count": null,
   "metadata": {},
   "outputs": [],
   "source": []
  }
 ],
 "metadata": {
  "kernelspec": {
   "display_name": "enviromentTest",
   "language": "python",
   "name": "python3"
  },
  "language_info": {
   "codemirror_mode": {
    "name": "ipython",
    "version": 3
   },
   "file_extension": ".py",
   "mimetype": "text/x-python",
   "name": "python",
   "nbconvert_exporter": "python",
   "pygments_lexer": "ipython3",
   "version": "3.11.0"
  }
 },
 "nbformat": 4,
 "nbformat_minor": 2
}
