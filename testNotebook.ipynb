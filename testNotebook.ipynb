{
 "cells": [
  {
   "cell_type": "markdown",
   "metadata": {},
   "source": [
    "<b>Dieses Notebook enthält den Scrapper </b>\\\n",
    "Es kann bis zum ersten aufruf von scrape() problemlos ausgeführt werden"
   ]
  },
  {
   "cell_type": "code",
   "execution_count": 1,
   "metadata": {},
   "outputs": [],
   "source": [
    "from selenium import webdriver\n",
    "from selenium.webdriver.common.keys import Keys\n",
    "from selenium.webdriver.common.by import By\n",
    "from selenium.webdriver.chrome.options import Options\n",
    "from time import sleep\n",
    "import typing\n",
    "import pickle\n",
    "from bs4 import BeautifulSoup\n",
    "from selenium.webdriver.chrome.webdriver import WebDriver\n",
    "import random\n",
    "import json\n",
    "import re\n",
    "import urllib\n",
    "import base64\n",
    "import os"
   ]
  },
  {
   "cell_type": "code",
   "execution_count": 2,
   "metadata": {},
   "outputs": [],
   "source": [
    "html_source = \"No\"\n",
    "url=\"https://www.worldometers.info/world-population/population-by-country/\"\n",
    "url=\"https://www.thalia.de/shop/home/artikeldetails/A1000847310\"  #Bleach\n",
    "url=\"https://www.thalia.de/shop/home/artikeldetails/A1063615999\"  #Star Wars\n",
    "url=\"https://www.thalia.de/shop/home/artikeldetails/A1069791892\"  #g buch\n",
    "\n",
    "img_src=\"https://images.thalia.media/00/-/81e43ca44c6f4e0b9de88c84f5257a6e/bleach-taschenbuch-tite-kubo.jpeg\""
   ]
  },
  {
   "cell_type": "code",
   "execution_count": 3,
   "metadata": {},
   "outputs": [],
   "source": [
    "def printInfo(browser:WebDriver):\n",
    "    print(browser.title)\n",
    "    print(browser.current_url)\n",
    "    driver_ua = browser.execute_script(\"return navigator.userAgent\")\n",
    "    print(\"User agent:\",driver_ua)\n",
    "\n",
    "def clickDetailsBut(browser:WebDriver):\n",
    "    #detail_but= browser.find_element(By.CSS_SELECTOR,\"button[data-dialog='details']\")\n",
    "    #click on detail button with js\n",
    "    outerButHTML_str:str = browser.execute_script(r\"let detailbut=document.querySelector('button[data-dialog=\\'details\\']') ;console.log(detailbut); detailbut.click(); detailbut.outerHTML\")\n",
    "    print(outerButHTML_str)\n",
    "def declineCookies(browser:WebDriver):\n",
    "    #browser.execute_script(r\"let cookie=document.querySelector('#usercentrics-root');let but=cookie.shadowRoot.querySelector('button[data-testid=\\\"uc-deny-all-button\\\"]').click();return but.outerHTML\")\n",
    "    browser.execute_script(r\"try{ let cookie=document.querySelector('#usercentrics-root');let but=cookie.shadowRoot.querySelector('button[data-testid=\\\"uc-deny-all-button\\\"]').click();return but.outerHTML}catch(e){console.log('error at accepting cookies ;ignore it')}\")\n",
    "\n"
   ]
  },
  {
   "cell_type": "code",
   "execution_count": 4,
   "metadata": {},
   "outputs": [
    {
     "data": {
      "text/plain": [
       "['--headless=false']"
      ]
     },
     "execution_count": 4,
     "metadata": {},
     "output_type": "execute_result"
    }
   ],
   "source": [
    "my_user_agent=\"Mozilla/5.0 (Windows NT 10.0; Win64; x64) AppleWebKit/537.36 (KHTML, like Gecko) Chrome/123.0.0.0 Safari/537.36\"\n",
    "my_user_agent=\"Mozilla/5.0 (Windows NT 10.0; Win64; x64) AppleWebKit/537.36 (KHTML, like Gecko) Chrome/123.0.0.0 Safari/537.36 Edg/123.0.0.0\"\n",
    "# Set up Chrome options if you want headless\n",
    "chrome_options = Options()\n",
    "chrome_options.add_argument(\"--headless=false\")\n",
    "chrome_options.add_experimental_option(\"useAtomationExtension\",False)\n",
    "\n",
    "# Set the custom User-Agent\n",
    "#chrome_options.add_argument(f\"--user-agent={my_user_agent}\")\n",
    "\n",
    "chrome_options.arguments\n"
   ]
  },
  {
   "cell_type": "code",
   "execution_count": 5,
   "metadata": {},
   "outputs": [],
   "source": [
    "def saveBase64Img(base_input_64=\"\",dst=\"img.png\"):\n",
    "    img = base64.b64decode(base_input_64[22:])\n",
    "    with open(dst, 'wb') as f:\n",
    "        f.write(img)\n"
   ]
  },
  {
   "cell_type": "code",
   "execution_count": 6,
   "metadata": {},
   "outputs": [],
   "source": [
    "def downloadImage(url,browser,saveName=\"savedImg\"):\n",
    "    save_script=R''' try{\n",
    "    //let src=document.querySelector(\"image-zoom picture source, tab-panel picture source\").srcset\n",
    "    function urlContentToDataUri(url){\n",
    "    return  fetch(url)\n",
    "            .then( response => response.blob() )\n",
    "            .then( blob => new Promise( callback =>{\n",
    "                let reader = new FileReader() ;\n",
    "                reader.onload = function(){ callback(this.result) } ;\n",
    "                reader.readAsDataURL(blob) ;\n",
    "            }) ) ;\n",
    "}\n",
    "    let base64=await urlContentToDataUri(\"%s\");\n",
    "    return base64;\n",
    "    }\n",
    "    catch(e){return \"\"}\n",
    "'''  % (url)\n",
    "    base_in_64=browser.execute_script(save_script)\n",
    "    #print(base_in_64[0:400])\n",
    "   # with open(\"base64debugdump\", 'w') as f:\n",
    "    #    f.write(base_in_64)\n",
    "    if base_in_64 !=\"\":\n",
    "        saveBase64Img(base_in_64,saveName)"
   ]
  },
  {
   "cell_type": "code",
   "execution_count": 7,
   "metadata": {},
   "outputs": [],
   "source": [
    "# nur ein test ob Selenium tatsächlic läuft\n",
    "def testSelenium():\n",
    "    # dies Zeile benötigt einen Chrome driver der in env-var bekannt ist\n",
    "    # alternativ:   driver = webdriver.Chrome('./chromedriver') <- wenn driver in gleichen Ordner ist\n",
    "    #try:\n",
    "    browser= webdriver.Chrome()\n",
    "    browser.get(url)\n",
    "\n",
    "    html_source= browser.page_source\n",
    "    printInfo(browser)\n",
    "\n",
    "    sleep(2)\n",
    "\n",
    "    #decline cookies\n",
    "    declineCookies(browser)\n",
    "    sleep(2.211)\n",
    "    \n",
    "    #clickDetailsBut(browser)\n",
    "    img_url=browser.execute_script('return document.querySelector(\"image-zoom picture source, tab-panel picture source\").srcset')\n",
    "    print(f\"the image url is {img_url}\")\n",
    "    downloadImage(img_url,browser,\"savedImage.jpeg\")\n",
    "\n",
    "    sleep(5)\n",
    "    browser.execute_script('window.location=\"https://www.thalia.de/shop/home/artikeldetails/A1020323321\"')\n",
    "    ''' sleep(5)\n",
    "    sleep(3)\n",
    "    next_html=browser.page_source\n",
    "\n",
    "    sleep(5)\n",
    "    browser.execute_script('window.location=\"https://www.thalia.de/shop/home/artikeldetails/A1020881790\"')\n",
    "    sleep(3)\n",
    "    next_html_pp=browser.page_source\n",
    "'''\n",
    "    sleep(10)\n",
    "    browser.close()\n",
    "    #except Exception as e:\n",
    "    #  print(\"Webdriver preumably closed\",e)\n",
    "#testSelenium()"
   ]
  },
  {
   "cell_type": "code",
   "execution_count": 8,
   "metadata": {},
   "outputs": [],
   "source": [
    "#testobj={\"Titel\": \"Wilhelm Brinkmeyers Abenteuer von ihm selbst erzählt\", \"Autor\": [\"Rudolf Huch\"], \"KurzBesch\": \"\", \"ExtraInfo\": \"Buch (Taschenbuch)\", \"Kategorien\": \"StartseiteGesc//Bücher/Romane&Erzählungenenglisch/Literatur\", \"Beschreibung\": \"Eheu! Mit diesem Weheruf aus dem klassischen Altertum pflegte ich während meiner Gymnasialzeit das göttliche Dreigespann des Phaeton zu begrüßen, jenes verwegenen Jünglings, der sich, wie uns Ovid überliefert, dereinst der Lenkung des Sonnenwagens unterwunden hat, aber weil ihm die Kräfte des Apollon fehlten, auf das elendste dabei umgekommen ist. Eine Erzählung, die mir in dem derzeitigen philosophischen Abschnitte meines Lebens höchst bedeutungsvoll erscheint, als ein Symbolum der allermeisten menschlichen Bestrebungen, ja vielleicht des menschlichen Lebens überhaupt. Wenn wir nämlich das von jenem Phaeton befahrene Himmelsgewölbe dem Tummelplatze dieser Erde und sein Gespann unserm Schicksal gleichsetzen, so ergibt sich, daß wir uns wohl alle in grüner Jugend vermessen, das Gefährte nach unserm Willen über die Bahn zu lenken, da wir doch nach einiger Strecke erkennen müssen, sofern wir nicht bis zum Ende in geistiger Blindheit beharren, daß vielmehr das Gespann uns führt, wohin es ihm beliebt. Auch hinsichtlich der Gleichsetzung unsers Schicksals mit einem durchgehenden Gespann erscheint mir der Vergleich keineswegs zu hinken. Irgendwas von Sinn und Verstand vermag ich in dem Walten der Schicksalsmacht wenigstens in meinem Leben nicht zu entdecken. Was nun schließlich das klägliche Ende des Unternehmers anlangt, so ist, solange die Welt steht, noch keines Menschen Fahrt anders ausgegangen als mit dem Tode. ¿ Der aufmerkende Leser wird nicht erst der ausdrücklichen Versicherung bedürfen, daß mein Weheruf nicht etwa einer Abneigung wider die Wissenschaften entsprang. Das war so wenig der Fall, daß ich schon von der Obertertia an beflissen war, mich auf mein erwähltes Fach, Theologie und Philologie, vorzubereiten, indem ich Sextanern und Quintanern, deren Eltern mich darum anließen, gegen ein geringes Taschengeld Nachhilfestunden erteilte.\", \"Rezension\": \"\", \"Einband\": \"Taschenbuch\", \"Erscheinungsdatum\": \"09.01.2023\", \"Verlag\": \"Culturea\", \"Seitenzahl\": \"204\", \"Maße (L/B/H)\": \"22/17/1,2 cm\", \"Gewicht\": \"326 g\", \"Sprache\": \"Deutsch\", \"ISBN\": \"979-10-419-0291-0\", \"Img\": [\"https://images.thalia.media/00/-/adcf6c47e8474d2198f3dca177c75c6e/wilhelm-brinkmeyers-abenteuer-von-ihm-selbst-erzaehlt-taschenbuch-rudolf-huch.jpeg\"], \"url\": \"https://www.thalia.de/shop/home/artikeldetails/A1067788334\"}\n",
    "def testIsGermanBook(details)->bool:\n",
    "    if details[\"Titel\"]==\"\":return False #possible empty page\n",
    "    book_reg=\"fremd|Musik|kalendar|Kalend|schreibwaren|Geschenk|Spielwaren|Spiel|eReader|Zubehör|Englisch\"\n",
    "    x=re.search(book_reg,details['ExtraInfo']+details['Kategorien'],flags=re.IGNORECASE)\n",
    "    return (True if x==None else  False)\n",
    "#testIsGermanBook(testobj)"
   ]
  },
  {
   "cell_type": "markdown",
   "metadata": {},
   "source": [
    "<b>Die Methode die das DOM/Soup einer Webseite nimmt und die wichtigen Infos extrahiert "
   ]
  },
  {
   "cell_type": "code",
   "execution_count": 9,
   "metadata": {},
   "outputs": [],
   "source": [
    "def extract(DOM)->dict:\n",
    "        \n",
    "    details={}\n",
    "    \n",
    "    title_el= DOM.select_one (\"section.basis-informationen h1\")\n",
    "    details[\"Titel\"] = title_el.text if title_el != None else \"\"\n",
    "\n",
    "    autors_el_list= DOM.select(\"a.autor-name\")\n",
    "    details[\"Autor\"] = [autor.text for autor in autors_el_list ]\n",
    "\n",
    "    short_Desc_el= DOM.select_one (\"section.basis-informationen .untertitel\")\n",
    "    details[\"KurzBesch\"] = short_Desc_el.text if short_Desc_el != None else \"\"\n",
    "\n",
    "    extra_Info_el= DOM.select_one (\"section.basis-informationen ul+ p\")\n",
    "    details[\"ExtraInfo\"] = extra_Info_el.text if extra_Info_el != None else \"\"\n",
    "\n",
    "    categories_el= DOM.select_one (\"ul.breadcrumb-list\")\n",
    "    details[\"Kategorien\"] =\"\".join(  [cat.strip() for cat in categories_el.text.split()] ) if categories_el != None else \"\"\n",
    "\n",
    "\n",
    "    desc_el= DOM.select_one ('dialog[data-dialog-name=\"zusatztexte\"] section.zusatztext div')\n",
    "    if desc_el ==None: desc_el= DOM.select_one ('.inhalt-beschreibung .kurzbeschreibung')\n",
    "    details[\"Beschreibung\"] = desc_el.text.strip() if desc_el != None else \"\"\n",
    "    \n",
    "    review_el= DOM.select_one('dialog[data-dialog-name=\"zusatztexte\"] section.zusatztext-gruppe p')\n",
    "    details[\"Rezension\"] = review_el.text if review_el != None else \"\"\n",
    "\n",
    "    detail_dialog_div= DOM.select_one(\"dialog[data-dialog-name='details'] div.artikeldetails \")\n",
    "    for el in  detail_dialog_div.find_all(\"section\") if detail_dialog_div!=None else [] :\n",
    "            dia_key_el=el.find('h3', {'class': 'detailbezeichnung'})\n",
    "            val_el=el.select_one(\".single-value, a\")\n",
    "            if dia_key_el !=None  and val_el != None:\n",
    "                details[dia_key_el.text.strip() ]=val_el.text\n",
    "\n",
    "    img_el_list= DOM.select(\"image-zoom picture source, tab-panel picture source\")\n",
    "    details[\"Img\"] = [img['srcset'] for img in img_el_list ]\n",
    "    \n",
    "    #print(details)\n",
    "    return details\n",
    "# data=extract(soup)    "
   ]
  },
  {
   "cell_type": "code",
   "execution_count": 10,
   "metadata": {},
   "outputs": [],
   "source": [
    "\n",
    "def save(obj:dict[str,str] ,path:str=\"Data/book_data.1.0\"):\n",
    "    if obj==None: return\n",
    "    with open(path, 'a',encoding= \"utf-8\") as file:\n",
    "        json.dump(obj, file,ensure_ascii=False)\n",
    "        file.write(\"\\n\")\n",
    "#save(data)"
   ]
  },
  {
   "cell_type": "code",
   "execution_count": 11,
   "metadata": {},
   "outputs": [],
   "source": [
    "def pretty(d, indent=0):\n",
    "   for key, value in d.items():\n",
    "      print('\\t' * indent + str(key))\n",
    "      if isinstance(value, dict):\n",
    "         pretty(value, indent+1)\n",
    "      else:\n",
    "         print('\\t' * (indent+1) + str(value))\n",
    "#pretty(data)"
   ]
  },
  {
   "cell_type": "code",
   "execution_count": 12,
   "metadata": {},
   "outputs": [],
   "source": [
    "def loadURLs(path:str=\"TestUrl/1000_test_Urls.txt\"):\n",
    "    with open(path, 'r',encoding= \"utf-8\") as file:\n",
    "        contents = file.read()\n",
    "        return contents.split(\"\\n\") if contents!=None else []"
   ]
  },
  {
   "cell_type": "code",
   "execution_count": 13,
   "metadata": {},
   "outputs": [
    {
     "name": "stdout",
     "output_type": "stream",
     "text": [
      "1152 ['https://www.thalia.de/shop/home/artikeldetails/A1066698677', 'https://www.thalia.de/shop/home/artikeldetails/A1047574159', 'https://www.thalia.de/shop/home/artikeldetails/A1069776105', 'https://www.thalia.de/shop/home/artikeldetails/A1063536656', 'https://www.thalia.de/shop/home/artikeldetails/A1050290421', 'https://www.thalia.de/shop/home/artikeldetails/A1050354428', 'https://www.thalia.de/shop/home/artikeldetails/A1069945964', 'https://www.thalia.de/shop/home/artikeldetails/A1068344029', 'https://www.thalia.de/shop/home/artikeldetails/A1054221230', 'https://www.thalia.de/shop/home/artikeldetails/A1069888647'] ... ['https://www.thalia.de/shop/home/artikeldetails/A1067383475', 'https://www.thalia.de/shop/home/artikeldetails/A1067383360', 'https://www.thalia.de/shop/home/artikeldetails/A1067372013', 'https://www.thalia.de/shop/home/artikeldetails/A1067361992', 'https://www.thalia.de/shop/home/artikeldetails/A1067334401', 'https://www.thalia.de/shop/home/artikeldetails/A1067334306', 'https://www.thalia.de/shop/home/artikeldetails/A1067333653', 'https://www.thalia.de/shop/home/artikeldetails/A1067333754', 'https://www.thalia.de/shop/home/artikeldetails/A1067333711', 'https://www.thalia.de/shop/home/artikeldetails/A1067333835'] \n",
      " https://www.thalia.de/shop/home/artikeldetails/A1052743079\n"
     ]
    }
   ],
   "source": [
    "urlList=loadURLs()\n",
    "print(len( urlList),urlList[0:10],\"...\",urlList[-10:],'\\n',random.choice( urlList) )"
   ]
  },
  {
   "cell_type": "code",
   "execution_count": 14,
   "metadata": {},
   "outputs": [],
   "source": [
    "def dragonMsg(sep:str=\"|#|\"):\n",
    "    print( sep.join([f'\\x1b[{90+(x%8)}m\\U0001f409\\ufe0e' for x in range(0,10)]) ,\"\\n\\n\"+3*\"\\t\"+\"\\x1b[3;37m| (OvO) |\" )"
   ]
  },
  {
   "cell_type": "markdown",
   "metadata": {},
   "source": [
    "Die Scrape Methode\\\n",
    "sie nimmt ein File mit '\\n' separierten Buch-artikel URLS und (!)appendet die Daten in den spezifizierten out_file "
   ]
  },
  {
   "cell_type": "code",
   "execution_count": 15,
   "metadata": {},
   "outputs": [],
   "source": [
    "def writeCurIndex(path,index):\n",
    "    with open(path, 'w',encoding= \"utf-8\") as counterfile:\n",
    "                counterfile.write(str(index))"
   ]
  },
  {
   "cell_type": "code",
   "execution_count": 16,
   "metadata": {},
   "outputs": [],
   "source": [
    "def scrape(url_path:str,output_file:str):\n",
    "    cur_url_index=0\n",
    "    cur_output_index=0\n",
    "    out_baseName=re.sub('.jsonl',\"\",output_file)\n",
    "    counterfile_path=out_baseName+\"_cur_pointer.txt\"\n",
    "    image_folder=out_baseName+\"_images/\"\n",
    "    os.makedirs(image_folder,exist_ok=True)\n",
    "    try:\n",
    "        scrape_urls = loadURLs(url_path)\n",
    "        print(f\"urls length {len(scrape_urls)} {scrape_urls[0:5]} ...{scrape_urls[-5:]}\")\n",
    "        if os.path.exists(counterfile_path):\n",
    "            with open(counterfile_path,'r',encoding= \"utf-8\")  as counterfile:\n",
    "                content=counterfile.read()\n",
    "                cur_url_index=int(content.split('\\n')[0])\n",
    "            print(f\"Existing index detected start at {cur_url_index}\")\n",
    "        else:\n",
    "            writeCurIndex(counterfile_path,cur_url_index)\n",
    "        if os.path.exists(output_file):\n",
    "            with open(output_file,'r',encoding= \"utf-8\")  as file:\n",
    "                linenumbers=len(file.readlines())\n",
    "                cur_output_index=linenumbers\n",
    "            print(f\"Output file has already content continue at {cur_output_index}\")    \n",
    "    except Exception as e:\n",
    "        print(e,\"something went wrong aborted\")\n",
    "        return\n",
    "\n",
    "    browser:WebDriver= webdriver.Chrome()\n",
    "    print(f\"Start url is {scrape_urls[cur_url_index]}\")\n",
    "    browser.get(scrape_urls[cur_url_index])\n",
    "    sleep(3)\n",
    "    declineCookies(browser)\n",
    "    sleep(2)\n",
    "\n",
    "    error_counter=0\n",
    "    for current_url in scrape_urls[cur_url_index:]:\n",
    "        try:\n",
    "            if(current_url== \"\"):cur_url_index+=1;continue\n",
    "            if(cur_url_index!=0):\n",
    "                #!!! important\n",
    "                sleep(3+ 1*random.random())\n",
    "                browser.execute_script(f'window.location=\"{current_url}\"')\n",
    "                sleep(1)\n",
    "            \n",
    "            cur_html= browser.page_source\n",
    "            cur_DOM=BeautifulSoup(cur_html,\"html.parser\")\n",
    "            extr_dat=extract(cur_DOM)\n",
    "            extr_dat[\"url\"]=current_url\n",
    "\n",
    "            #print(\"Page title\",browser.title,\"\\n\",extr_dat)\n",
    "            isABook=testIsGermanBook(extr_dat)\n",
    "            if isABook:\n",
    "                cur_output_index+=1\n",
    "                booksPerFolder=100\n",
    "                small_index=(cur_output_index%booksPerFolder)\n",
    "                folder_nr=cur_output_index-small_index\n",
    "                image_folder_kat=image_folder+str(folder_nr)\n",
    "                title_clean= (re.sub(\"[^A-Za-z0-9]\",\"X\",  extr_dat['Titel']))[0:20]\n",
    "                extr_dat['imgLoc']=f\"{image_folder_kat}/{small_index}-0-{title_clean}.jpeg\"\n",
    "                save(extr_dat,output_file)\n",
    "                os.makedirs(image_folder_kat,exist_ok=True)\n",
    "                for_loop_counter=0\n",
    "                for img_url in extr_dat['Img']:\n",
    "                    fileName= f\"{small_index}-{for_loop_counter}-{title_clean}.jpeg\"\n",
    "                    downloadImage(img_url,browser, image_folder_kat+\"/\" +fileName)\n",
    "                    # sleep(2.32+0.3*random.random()) #diable sleep for images\n",
    "                    for_loop_counter+=1\n",
    "        except:\n",
    "            error_counter+=1\n",
    "            print(f\"something went wrong at {current_url}-- skiped to next err_count:{error_counter}\")  \n",
    "            if error_counter>40: print(\"abour err_count to high\"); return\n",
    "            \n",
    "        cur_url_index+=1\n",
    "        writeCurIndex(counterfile_path,cur_url_index)\n",
    "      \n",
    "    browser.close()\n",
    "    #delete the pointer to the current url file\n",
    "    if os.path.exists(counterfile_path): os.remove(counterfile_path)\n",
    "    dragonMsg()\n",
    "    print(\"finshed succesfully\\n\")    "
   ]
  },
  {
   "cell_type": "markdown",
   "metadata": {},
   "source": [
    "<b>Das startet einen Browser und beginnt das scrapen\\\n",
    "Nur ausführen wenn gewollt!\\\n",
    "<i>Das ist ein kleiner Test mit nur 10 URLs im file"
   ]
  },
  {
   "cell_type": "code",
   "execution_count": 21,
   "metadata": {},
   "outputs": [
    {
     "name": "stdout",
     "output_type": "stream",
     "text": [
      "urls length 11 ['https://www.thalia.de/shop/home/artikeldetails/A1063486833', 'https://www.thalia.de/shop/home/artikeldetails/A1069791866', 'https://www.thalia.de/shop/home/artikeldetails/A1039227855', 'https://www.thalia.de/shop/home/artikeldetails/A1068568698', 'https://www.thalia.de/shop/home/artikeldetails/A1070083631'] ...['https://www.thalia.de/shop/home/artikeldetails/A1070907954', 'https://www.thalia.de/shop/home/artikeldetails/A1068522411', 'https://www.thalia.de/shop/home/artikeldetails/A1029053214', 'https://www.thalia.de/shop/home/artikeldetails/A1069792353', '']\n",
      "Start url is https://www.thalia.de/shop/home/artikeldetails/A1063486833\n",
      "\u001b[90m🐉︎|#|\u001b[91m🐉︎|#|\u001b[92m🐉︎|#|\u001b[93m🐉︎|#|\u001b[94m🐉︎|#|\u001b[95m🐉︎|#|\u001b[96m🐉︎|#|\u001b[97m🐉︎|#|\u001b[90m🐉︎|#|\u001b[91m🐉︎ \n",
      "\n",
      "\t\t\t\u001b[3;37m| (OvO) |\n",
      "finshed succesfully\n",
      "\n"
     ]
    }
   ],
   "source": [
    "#scrape(\"TestURL/10_test_Urls.txt\",\"Data/10_test_Urls_data.jsonl\" )\n",
    "scrape(\"TestURL/Other10_Url.txt\",\"Data/Other10_UrlNext.jsonl\" )"
   ]
  },
  {
   "cell_type": "markdown",
   "metadata": {},
   "source": [
    "<b> Das braucht mindesten 2h!"
   ]
  },
  {
   "cell_type": "code",
   "execution_count": 16,
   "metadata": {},
   "outputs": [
    {
     "name": "stdout",
     "output_type": "stream",
     "text": [
      "urls length 1152 ['https://www.thalia.de/shop/home/artikeldetails/A1066698677', 'https://www.thalia.de/shop/home/artikeldetails/A1047574159', 'https://www.thalia.de/shop/home/artikeldetails/A1069776105', 'https://www.thalia.de/shop/home/artikeldetails/A1063536656', 'https://www.thalia.de/shop/home/artikeldetails/A1050290421'] ...['https://www.thalia.de/shop/home/artikeldetails/A1067334306', 'https://www.thalia.de/shop/home/artikeldetails/A1067333653', 'https://www.thalia.de/shop/home/artikeldetails/A1067333754', 'https://www.thalia.de/shop/home/artikeldetails/A1067333711', 'https://www.thalia.de/shop/home/artikeldetails/A1067333835']\n",
      "\u001b[90m🐉︎\u001b[91m🐉︎\u001b[92m🐉︎\u001b[93m🐉︎\u001b[94m🐉︎\u001b[95m🐉︎\u001b[96m🐉︎\u001b[97m🐉︎\u001b[90m🐉︎\u001b[91m🐉︎ \n",
      "\n",
      "\t\t\t\u001b[3;37m| (OvO) |\n",
      "finshed succesfully\n",
      "\n"
     ]
    }
   ],
   "source": [
    "scrape(\"TestURL/1000_test_Urls.txt\",\"Data/1000_test_Urls_data.txt\" )"
   ]
  },
  {
   "cell_type": "markdown",
   "metadata": {},
   "source": [
    "Diese Methode erstellt ein URL file von Buch-artikelseiten\\\n",
    "die von ihr erstellten files können für die scrape Methode verwendet werden\\\n",
    "Sie braucht entweder einen categorie URL oder einen such URL.\n",
    "<li> alle category urls kann  von thalia sich geben mit https://www.thalia.de/sitemaps/kategorie/kategorie.xml \\\n",
    "(ist schon extrahiert in Ordner Test/URL/categorieurl.txt)\n",
    "<li>Oder man geht auf die thalia Webseite und sucht irgendetwas und kopiert sich den url raus.\\\n",
    "Die Suche hat unten einen [weitere laden] Knopf, dieser wird solange gerückt bis alle geladen sind oder eine Obergrenze erreicht ist. Dann werden all Verweise der Seite auf Buchseiten extrahiert und in ein FIle geschrieben"
   ]
  },
  {
   "cell_type": "code",
   "execution_count": 17,
   "metadata": {},
   "outputs": [],
   "source": [
    "# goes to a kategorie site and clicks the \"weitere laden button until no more remaining click are there\n",
    "# and saves all link of saerch results to a file\n",
    "def collect_urls(search_url:str,output_file:str=\"default\"):\n",
    "    browser:WebDriver= webdriver.Chrome()\n",
    "    browser.get(search_url)\n",
    "    sleep(1)\n",
    "    declineCookies(browser)\n",
    "    sleep(1)\n",
    "    browser.set_script_timeout(200)\n",
    "    cat_urls= browser.execute_script(r''' \n",
    "let $=document.querySelector.bind(document);\n",
    "let $A=document.querySelectorAll.bind(document);\n",
    "const sleep= async(m_time)=> await new Promise(resolve => setTimeout(resolve,1000*m_time));\n",
    "let weiter_laden=$(\"button[interaction=weitere-ergebnisse-laden]\")\n",
    "weiter_laden.click();\n",
    "await sleep(3);\n",
    "weiter_laden.click();\n",
    "await sleep(3);\n",
    "let amount=$(\".element-text-standard-strong.ergebnisanzeige\")\n",
    "let amountsar=   amount.innerText.split(/\\D+/).slice(0,2).map(x=>+x)\n",
    "let remaining=amountsar[1]-amountsar[0];\n",
    "let max_click=20;\n",
    "while(max_click>0&&remaining>0){\n",
    "           max_click--;     \n",
    "weiter_laden.click();                      \n",
    "await sleep(1);\n",
    "amountsar=   amount.innerText.split(/\\D+/).slice(0,2).map(x=>+x)\n",
    "remaining=amountsar[1]-amountsar[0];\n",
    "}                                                                            \n",
    "let all_links=[...$A(\"a[caption=suchergebnis-klick]\")].map(x=>x.href)  \n",
    "return    [...new Set(all_links)].join(\"\\n\")                                                                      \n",
    "''')\n",
    "    print(cat_urls)\n",
    "    used_out_file=\"TestUrl/\"\n",
    "    if output_file==\"default\":\n",
    "        category=search_url.split(\"/\")[-1]\n",
    "        if category==\"\":category=  search_url.split(\"/\")[-2]\n",
    "        used_out_file+=category+\".txt\"\n",
    "    else:\n",
    "        used_out_file=output_file\n",
    "    print(f\"found urls were written to {used_out_file}\")\n",
    "    with open(used_out_file, 'w',encoding= \"utf-8\") as file:\n",
    "        file.write(cat_urls)\n",
    "    \n",
    "    #browser.close()\n",
    "    sleep(10)\n",
    "    dragonMsg()\n",
    "    print(\"finshed succesfully\\n\")  "
   ]
  },
  {
   "cell_type": "markdown",
   "metadata": {},
   "source": [
    "Führt es aus"
   ]
  },
  {
   "cell_type": "code",
   "execution_count": 18,
   "metadata": {},
   "outputs": [
    {
     "name": "stdout",
     "output_type": "stream",
     "text": [
      "https://www.thalia.de/shop/home/artikeldetails/A1070541882\n",
      "https://www.thalia.de/shop/home/artikeldetails/A1070541877\n",
      "https://www.thalia.de/shop/home/artikeldetails/A1034798710\n",
      "https://www.thalia.de/shop/home/artikeldetails/A1070039278\n",
      "https://www.thalia.de/shop/home/artikeldetails/A1055668859\n",
      "https://www.thalia.de/shop/home/artikeldetails/A1024745050\n",
      "https://www.thalia.de/shop/home/artikeldetails/A1028648104\n",
      "https://www.thalia.de/shop/home/artikeldetails/A1034538898\n",
      "https://www.thalia.de/shop/home/artikeldetails/A1070110821\n",
      "https://www.thalia.de/shop/home/artikeldetails/A1069245430\n",
      "https://www.thalia.de/shop/home/artikeldetails/A1058725601\n",
      "https://www.thalia.de/shop/home/artikeldetails/A1060306473\n",
      "https://www.thalia.de/shop/home/artikeldetails/A1053316676\n",
      "https://www.thalia.de/shop/home/artikeldetails/A1071340030\n",
      "https://www.thalia.de/shop/home/artikeldetails/A1071340027\n",
      "https://www.thalia.de/shop/home/artikeldetails/A1071229804\n",
      "https://www.thalia.de/shop/home/artikeldetails/A1071103696\n",
      "https://www.thalia.de/shop/home/artikeldetails/A1070884947\n",
      "https://www.thalia.de/shop/home/artikeldetails/A1070897059\n",
      "https://www.thalia.de/shop/home/artikeldetails/A1070544423\n",
      "https://www.thalia.de/shop/home/artikeldetails/A1070544424\n",
      "https://www.thalia.de/shop/home/artikeldetails/A1070110824\n",
      "https://www.thalia.de/shop/home/artikeldetails/A1070039429\n",
      "https://www.thalia.de/shop/home/artikeldetails/A1070039848\n",
      "https://www.thalia.de/shop/home/artikeldetails/A1070039432\n",
      "https://www.thalia.de/shop/home/artikeldetails/A1070039275\n",
      "https://www.thalia.de/shop/home/artikeldetails/A1069931548\n",
      "https://www.thalia.de/shop/home/artikeldetails/A1069245576\n",
      "https://www.thalia.de/shop/home/artikeldetails/A1068973568\n",
      "https://www.thalia.de/shop/home/artikeldetails/A1068748883\n",
      "https://www.thalia.de/shop/home/artikeldetails/A1068405403\n",
      "https://www.thalia.de/shop/home/artikeldetails/A1068084663\n",
      "https://www.thalia.de/shop/home/artikeldetails/A1068084665\n",
      "https://www.thalia.de/shop/home/artikeldetails/A1066975946\n",
      "https://www.thalia.de/shop/home/artikeldetails/A1066691628\n",
      "https://www.thalia.de/shop/home/artikeldetails/A1066691262\n",
      "https://www.thalia.de/shop/home/artikeldetails/A1068362583\n",
      "https://www.thalia.de/shop/home/artikeldetails/A1052610602\n",
      "https://www.thalia.de/shop/home/artikeldetails/A1057409451\n",
      "https://www.thalia.de/shop/home/artikeldetails/A1057441064\n",
      "https://www.thalia.de/shop/home/artikeldetails/A1057398701\n",
      "https://www.thalia.de/shop/home/artikeldetails/A1057406185\n",
      "https://www.thalia.de/shop/home/artikeldetails/A1057325332\n",
      "https://www.thalia.de/shop/home/artikeldetails/A1057162945\n",
      "https://www.thalia.de/shop/home/artikeldetails/A1057280143\n",
      "https://www.thalia.de/shop/home/artikeldetails/A1056887734\n",
      "https://www.thalia.de/shop/home/artikeldetails/A1057037384\n",
      "https://www.thalia.de/shop/home/artikeldetails/A1009991609\n",
      "https://www.thalia.de/shop/home/artikeldetails/A1056581249\n",
      "https://www.thalia.de/shop/home/artikeldetails/A1056575937\n",
      "https://www.thalia.de/shop/home/artikeldetails/A1055693162\n",
      "https://www.thalia.de/shop/home/artikeldetails/A1055588448\n",
      "https://www.thalia.de/shop/home/artikeldetails/A1055703452\n",
      "https://www.thalia.de/shop/home/artikeldetails/A1055716484\n",
      "https://www.thalia.de/shop/home/artikeldetails/A1055512486\n",
      "https://www.thalia.de/shop/home/artikeldetails/A1055071034\n",
      "https://www.thalia.de/shop/home/artikeldetails/A1055071109\n",
      "https://www.thalia.de/shop/home/artikeldetails/A1054664490\n",
      "https://www.thalia.de/shop/home/artikeldetails/A1053993018\n",
      "https://www.thalia.de/shop/home/artikeldetails/A1053290318\n",
      "https://www.thalia.de/shop/home/artikeldetails/A1053709204\n",
      "https://www.thalia.de/shop/home/artikeldetails/A1054212166\n",
      "https://www.thalia.de/shop/home/artikeldetails/A1053755906\n",
      "https://www.thalia.de/shop/home/artikeldetails/A1053755997\n",
      "https://www.thalia.de/shop/home/artikeldetails/A1053147274\n",
      "https://www.thalia.de/shop/home/artikeldetails/A1052975301\n",
      "https://www.thalia.de/shop/home/artikeldetails/A1052349870\n",
      "https://www.thalia.de/shop/home/artikeldetails/A1033948727\n",
      "https://www.thalia.de/shop/home/artikeldetails/A1045248029\n",
      "https://www.thalia.de/shop/home/artikeldetails/A1051594020\n",
      "https://www.thalia.de/shop/home/artikeldetails/A1051594035\n",
      "https://www.thalia.de/shop/home/artikeldetails/A1051063748\n",
      "https://www.thalia.de/shop/home/artikeldetails/A1034047136\n",
      "https://www.thalia.de/shop/home/artikeldetails/A1001343408\n",
      "https://www.thalia.de/shop/home/artikeldetails/A1027335120\n",
      "https://www.thalia.de/shop/home/artikeldetails/A1051247729\n",
      "https://www.thalia.de/shop/home/artikeldetails/A1033542352\n",
      "https://www.thalia.de/shop/home/artikeldetails/A1002079048\n",
      "https://www.thalia.de/shop/home/artikeldetails/A1011518341\n",
      "https://www.thalia.de/shop/home/artikeldetails/A1050112782\n",
      "https://www.thalia.de/shop/home/artikeldetails/A1001140978\n",
      "https://www.thalia.de/shop/home/artikeldetails/A1015647380\n",
      "https://www.thalia.de/shop/home/artikeldetails/A1043063057\n",
      "https://www.thalia.de/shop/home/artikeldetails/A1030926686\n",
      "https://www.thalia.de/shop/home/artikeldetails/A1001281233\n",
      "https://www.thalia.de/shop/home/artikeldetails/A1051074712\n",
      "https://www.thalia.de/shop/home/artikeldetails/A1046125645\n",
      "https://www.thalia.de/shop/home/artikeldetails/A1037562566\n",
      "https://www.thalia.de/shop/home/artikeldetails/A1008628279\n",
      "https://www.thalia.de/shop/home/artikeldetails/A1002080057\n",
      "https://www.thalia.de/shop/home/artikeldetails/A1014173733\n",
      "https://www.thalia.de/shop/home/artikeldetails/A1049263482\n",
      "https://www.thalia.de/shop/home/artikeldetails/A1043913730\n",
      "https://www.thalia.de/shop/home/artikeldetails/A1048436621\n",
      "https://www.thalia.de/shop/home/artikeldetails/A1035243130\n",
      "https://www.thalia.de/shop/home/artikeldetails/A1040566643\n",
      "https://www.thalia.de/shop/home/artikeldetails/A1048075275\n",
      "https://www.thalia.de/shop/home/artikeldetails/A1047911660\n",
      "https://www.thalia.de/shop/home/artikeldetails/A1047864930\n",
      "https://www.thalia.de/shop/home/artikeldetails/A1033411707\n",
      "https://www.thalia.de/shop/home/artikeldetails/A1020958059\n",
      "https://www.thalia.de/shop/home/artikeldetails/A1046398614\n",
      "https://www.thalia.de/shop/home/artikeldetails/A1045194727\n",
      "https://www.thalia.de/shop/home/artikeldetails/A1043063704\n",
      "https://www.thalia.de/shop/home/artikeldetails/A1001606719\n",
      "https://www.thalia.de/shop/home/artikeldetails/A1071340268\n",
      "https://www.thalia.de/shop/home/artikeldetails/A1070092347\n",
      "https://www.thalia.de/shop/home/artikeldetails/A1070254781\n",
      "https://www.thalia.de/shop/home/artikeldetails/A1070008790\n",
      "https://www.thalia.de/shop/home/artikeldetails/A1070510016\n",
      "https://www.thalia.de/shop/home/artikeldetails/A1070039435\n",
      "https://www.thalia.de/shop/home/artikeldetails/A1069356165\n",
      "https://www.thalia.de/shop/home/artikeldetails/A1070081575\n",
      "https://www.thalia.de/shop/home/artikeldetails/A1068748682\n",
      "https://www.thalia.de/shop/home/artikeldetails/A1069245587\n",
      "https://www.thalia.de/shop/home/artikeldetails/A1069245057\n",
      "https://www.thalia.de/shop/home/artikeldetails/A1062184967\n",
      "https://www.thalia.de/shop/home/artikeldetails/A1068362582\n",
      "https://www.thalia.de/shop/home/artikeldetails/A1069080987\n",
      "https://www.thalia.de/shop/home/artikeldetails/A1069046616\n",
      "https://www.thalia.de/shop/home/artikeldetails/A1068405423\n",
      "https://www.thalia.de/shop/home/artikeldetails/A1068862106\n",
      "https://www.thalia.de/shop/home/artikeldetails/A1068084908\n",
      "https://www.thalia.de/shop/home/artikeldetails/A1067844329\n",
      "https://www.thalia.de/shop/home/artikeldetails/A1041060888\n",
      "https://www.thalia.de/shop/home/artikeldetails/A1068331003\n",
      "https://www.thalia.de/shop/home/artikeldetails/A1067988913\n",
      "https://www.thalia.de/shop/home/artikeldetails/A1067283870\n",
      "https://www.thalia.de/shop/home/artikeldetails/A1067404618\n",
      "https://www.thalia.de/shop/home/artikeldetails/A1066845170\n",
      "https://www.thalia.de/shop/home/artikeldetails/A1065893121\n",
      "https://www.thalia.de/shop/home/artikeldetails/A1066204181\n",
      "https://www.thalia.de/shop/home/artikeldetails/A1066402374\n",
      "https://www.thalia.de/shop/home/artikeldetails/A1040791910\n",
      "https://www.thalia.de/shop/home/artikeldetails/A1040782378\n",
      "https://www.thalia.de/shop/home/artikeldetails/A1040637974\n",
      "https://www.thalia.de/shop/home/artikeldetails/A1064315635\n",
      "https://www.thalia.de/shop/home/artikeldetails/A1064719945\n",
      "https://www.thalia.de/shop/home/artikeldetails/A1064270219\n",
      "https://www.thalia.de/shop/home/artikeldetails/A1064255735\n",
      "https://www.thalia.de/shop/home/artikeldetails/A1070869479\n",
      "https://www.thalia.de/shop/home/artikeldetails/A1063769834\n",
      "https://www.thalia.de/shop/home/artikeldetails/A1063769831\n",
      "https://www.thalia.de/shop/home/artikeldetails/A1038907054\n",
      "https://www.thalia.de/shop/home/artikeldetails/A1038957135\n",
      "https://www.thalia.de/shop/home/artikeldetails/A1038835537\n",
      "https://www.thalia.de/shop/home/artikeldetails/A1063100279\n",
      "https://www.thalia.de/shop/home/artikeldetails/A1038713984\n",
      "https://www.thalia.de/shop/home/artikeldetails/A1038165626\n",
      "https://www.thalia.de/shop/home/artikeldetails/A1063100278\n",
      "https://www.thalia.de/shop/home/artikeldetails/A1037588765\n",
      "https://www.thalia.de/shop/home/artikeldetails/A1037551203\n",
      "https://www.thalia.de/shop/home/artikeldetails/A1037773041\n",
      "https://www.thalia.de/shop/home/artikeldetails/A1033232967\n",
      "https://www.thalia.de/shop/home/artikeldetails/A1063037288\n",
      "https://www.thalia.de/shop/home/artikeldetails/A1063037290\n",
      "https://www.thalia.de/shop/home/artikeldetails/A1062898305\n",
      "https://www.thalia.de/shop/home/artikeldetails/A1062985597\n",
      "https://www.thalia.de/shop/home/artikeldetails/A1063058127\n",
      "https://www.thalia.de/shop/home/artikeldetails/A1063046573\n",
      "https://www.thalia.de/shop/home/artikeldetails/A1016917073\n",
      "https://www.thalia.de/shop/home/artikeldetails/A1062837279\n",
      "https://www.thalia.de/shop/home/artikeldetails/A1062464565\n",
      "https://www.thalia.de/shop/home/artikeldetails/A1062355692\n",
      "https://www.thalia.de/shop/home/artikeldetails/A1062355689\n",
      "https://www.thalia.de/shop/home/artikeldetails/A1035075413\n",
      "https://www.thalia.de/shop/home/artikeldetails/A1061914696\n",
      "https://www.thalia.de/shop/home/artikeldetails/A1061766807\n",
      "https://www.thalia.de/shop/home/artikeldetails/A1061673973\n",
      "https://www.thalia.de/shop/home/artikeldetails/A1061672451\n",
      "https://www.thalia.de/shop/home/artikeldetails/A1034177290\n",
      "https://www.thalia.de/shop/home/artikeldetails/A1030401243\n",
      "https://www.thalia.de/shop/home/artikeldetails/A1034696296\n",
      "https://www.thalia.de/shop/home/artikeldetails/A1001580512\n",
      "https://www.thalia.de/shop/home/artikeldetails/A1034420004\n",
      "https://www.thalia.de/shop/home/artikeldetails/A1040733794\n",
      "https://www.thalia.de/shop/home/artikeldetails/A1035171479\n",
      "https://www.thalia.de/shop/home/artikeldetails/A1019045938\n",
      "https://www.thalia.de/shop/home/artikeldetails/A1008613689\n",
      "https://www.thalia.de/shop/home/artikeldetails/A1058579492\n",
      "https://www.thalia.de/shop/home/artikeldetails/A1057728514\n",
      "https://www.thalia.de/shop/home/artikeldetails/A1030526751\n",
      "https://www.thalia.de/shop/home/artikeldetails/A1034766063\n",
      "https://www.thalia.de/shop/home/artikeldetails/A1056551251\n",
      "https://www.thalia.de/shop/home/artikeldetails/A1060985739\n",
      "https://www.thalia.de/shop/home/artikeldetails/A1060915767\n",
      "https://www.thalia.de/shop/home/artikeldetails/A1060812393\n",
      "https://www.thalia.de/shop/home/artikeldetails/A1060381419\n",
      "https://www.thalia.de/shop/home/artikeldetails/A1060329717\n",
      "https://www.thalia.de/shop/home/artikeldetails/A1060383055\n",
      "https://www.thalia.de/shop/home/artikeldetails/A1060306476\n",
      "https://www.thalia.de/shop/home/artikeldetails/A1060051471\n",
      "https://www.thalia.de/shop/home/artikeldetails/A1060329447\n",
      "https://www.thalia.de/shop/home/artikeldetails/A1060172041\n",
      "https://www.thalia.de/shop/home/artikeldetails/A1058579490\n",
      "https://www.thalia.de/shop/home/artikeldetails/A1030353466\n",
      "https://www.thalia.de/shop/home/artikeldetails/A1059615976\n",
      "https://www.thalia.de/shop/home/artikeldetails/A1059315393\n",
      "https://www.thalia.de/shop/home/artikeldetails/A1051651242\n",
      "https://www.thalia.de/shop/home/artikeldetails/A1059329710\n",
      "https://www.thalia.de/shop/home/artikeldetails/A1068361305\n",
      "https://www.thalia.de/shop/home/artikeldetails/A1058891576\n",
      "https://www.thalia.de/shop/home/artikeldetails/A1058895760\n",
      "https://www.thalia.de/shop/home/artikeldetails/A1058615823\n",
      "https://www.thalia.de/shop/home/artikeldetails/A1058615556\n",
      "https://www.thalia.de/shop/home/artikeldetails/A1035745694\n",
      "https://www.thalia.de/shop/home/artikeldetails/A1034419983\n",
      "https://www.thalia.de/shop/home/artikeldetails/A1058638348\n",
      "https://www.thalia.de/shop/home/artikeldetails/A1036794924\n",
      "https://www.thalia.de/shop/home/artikeldetails/A1058546282\n",
      "https://www.thalia.de/shop/home/artikeldetails/A1058614909\n",
      "https://www.thalia.de/shop/home/artikeldetails/A1058614492\n",
      "https://www.thalia.de/shop/home/artikeldetails/A1058576167\n",
      "https://www.thalia.de/shop/home/artikeldetails/A1030876660\n",
      "https://www.thalia.de/shop/home/artikeldetails/A1026609099\n",
      "https://www.thalia.de/shop/home/artikeldetails/A1019174599\n",
      "https://www.thalia.de/shop/home/artikeldetails/A1033523773\n",
      "https://www.thalia.de/shop/home/artikeldetails/A1034444199\n",
      "https://www.thalia.de/shop/home/artikeldetails/A1023975221\n",
      "https://www.thalia.de/shop/home/artikeldetails/A1033158517\n",
      "https://www.thalia.de/shop/home/artikeldetails/A1017286034\n",
      "https://www.thalia.de/shop/home/artikeldetails/A1029429937\n",
      "https://www.thalia.de/shop/home/artikeldetails/A1047947850\n",
      "https://www.thalia.de/shop/home/artikeldetails/A1017744070\n",
      "https://www.thalia.de/shop/home/artikeldetails/A1030981309\n",
      "https://www.thalia.de/shop/home/artikeldetails/A1010573494\n",
      "https://www.thalia.de/shop/home/artikeldetails/A1030592473\n",
      "found urls were written to TestUrl/horrorkomoedie-4461.txt\n",
      "\u001b[90m🐉︎|#|\u001b[91m🐉︎|#|\u001b[92m🐉︎|#|\u001b[93m🐉︎|#|\u001b[94m🐉︎|#|\u001b[95m🐉︎|#|\u001b[96m🐉︎|#|\u001b[97m🐉︎|#|\u001b[90m🐉︎|#|\u001b[91m🐉︎ \n",
      "\n",
      "\t\t\t\u001b[3;37m| (OvO) |\n",
      "finshed succesfully\n",
      "\n"
     ]
    }
   ],
   "source": [
    "# collect_urls(\"https://www.thalia.de/kategorie/feste-partys-9422/\")\n",
    "collect_urls(\"https://www.thalia.de/kategorie/horrorkomoedie-4461/\")"
   ]
  },
  {
   "cell_type": "code",
   "execution_count": 22,
   "metadata": {},
   "outputs": [
    {
     "name": "stdout",
     "output_type": "stream",
     "text": [
      "urls length 309 ['https://www.thalia.de/shop/home/artikeldetails/A1070043630', 'https://www.thalia.de/shop/home/artikeldetails/A1059167496', 'https://www.thalia.de/shop/home/artikeldetails/A1062298141', 'https://www.thalia.de/shop/home/artikeldetails/A1042663896', 'https://www.thalia.de/shop/home/artikeldetails/A1071044009'] ...['https://www.thalia.de/shop/home/artikeldetails/A1058207959', 'https://www.thalia.de/shop/home/artikeldetails/A1059326648', 'https://www.thalia.de/shop/home/artikeldetails/A1058306854', 'https://www.thalia.de/shop/home/artikeldetails/A1058264123', 'https://www.thalia.de/shop/home/artikeldetails/A1058230338']\n",
      "Existing index detected start at 242\n",
      "Output file has already content continue at 242\n",
      "Start url is https://www.thalia.de/shop/home/artikeldetails/A1039636278\n",
      "\u001b[90m🐉︎|#|\u001b[91m🐉︎|#|\u001b[92m🐉︎|#|\u001b[93m🐉︎|#|\u001b[94m🐉︎|#|\u001b[95m🐉︎|#|\u001b[96m🐉︎|#|\u001b[97m🐉︎|#|\u001b[90m🐉︎|#|\u001b[91m🐉︎ \n",
      "\n",
      "\t\t\t\u001b[3;37m| (OvO) |\n",
      "finshed succesfully\n",
      "\n"
     ]
    }
   ],
   "source": [
    "scrape(\"TestURL/feste-partys-9422.txt\",\"Data/feste-partys-9422.jsonl\" )"
   ]
  },
  {
   "cell_type": "code",
   "execution_count": 63,
   "metadata": {},
   "outputs": [],
   "source": [
    "collect_urls(\"https://www.thalia.de/kategorie/anime-4754/\")"
   ]
  },
  {
   "cell_type": "code",
   "execution_count": 20,
   "metadata": {},
   "outputs": [
    {
     "name": "stdout",
     "output_type": "stream",
     "text": [
      "urls length 519 ['https://www.thalia.de/shop/home/artikeldetails/A1051959790', 'https://www.thalia.de/shop/home/artikeldetails/A1051303737', 'https://www.thalia.de/shop/home/artikeldetails/A1064085687', 'https://www.thalia.de/shop/home/artikeldetails/A1065272959', 'https://www.thalia.de/shop/home/artikeldetails/A1050380980'] ...['https://www.thalia.de/shop/home/artikeldetails/A1055426978', 'https://www.thalia.de/shop/home/artikeldetails/A1055427368', 'https://www.thalia.de/shop/home/artikeldetails/A1056104993', 'https://www.thalia.de/shop/home/artikeldetails/A1056093043', 'https://www.thalia.de/shop/home/artikeldetails/A1055427218']\n",
      "Existing index detected start at 290\n",
      "Output file has already content continue at 285\n",
      "Start url is https://www.thalia.de/shop/home/artikeldetails/A1067888247\n",
      "\u001b[90m🐉︎|#|\u001b[91m🐉︎|#|\u001b[92m🐉︎|#|\u001b[93m🐉︎|#|\u001b[94m🐉︎|#|\u001b[95m🐉︎|#|\u001b[96m🐉︎|#|\u001b[97m🐉︎|#|\u001b[90m🐉︎|#|\u001b[91m🐉︎ \n",
      "\n",
      "\t\t\t\u001b[3;37m| (OvO) |\n",
      "finshed succesfully\n",
      "\n"
     ]
    }
   ],
   "source": [
    "scrape('TestUrl/anime-4754.txt','Data/anime-4754.jsonl')"
   ]
  },
  {
   "cell_type": "markdown",
   "metadata": {},
   "source": [
    "Hier wird die erste Artikel Page von Thalia gescrapte"
   ]
  },
  {
   "cell_type": "code",
   "execution_count": 19,
   "metadata": {},
   "outputs": [
    {
     "name": "stdout",
     "output_type": "stream",
     "text": [
      "urls length 49999 ['https://www.thalia.de/shop/home/artikeldetails/A1039564700', 'https://www.thalia.de/shop/home/artikeldetails/A1040092987', 'https://www.thalia.de/shop/home/artikeldetails/A1063047735', 'https://www.thalia.de/shop/home/artikeldetails/A1067332501', 'https://www.thalia.de/shop/home/artikeldetails/A1055295673'] ...['https://www.thalia.de/shop/home/artikeldetails/A1068566586', 'https://www.thalia.de/shop/home/artikeldetails/A1010527259', 'https://www.thalia.de/shop/home/artikeldetails/A1065307714', 'https://www.thalia.de/shop/home/artikeldetails/A1071099928', 'https://www.thalia.de/shop/home/artikeldetails/A1032879455']\n",
      "Existing index detected start at 21080\n",
      "Output file has already content continue at 13540\n",
      "Start url is https://www.thalia.de/shop/home/artikeldetails/A1052962580\n"
     ]
    }
   ],
   "source": [
    "scrape('ArticleUrl/page1.txt','ArticleData/page1.jsonl')"
   ]
  },
  {
   "cell_type": "code",
   "execution_count": null,
   "metadata": {},
   "outputs": [],
   "source": []
  }
 ],
 "metadata": {
  "kernelspec": {
   "display_name": "enviromentTest",
   "language": "python",
   "name": "python3"
  },
  "language_info": {
   "codemirror_mode": {
    "name": "ipython",
    "version": 3
   },
   "file_extension": ".py",
   "mimetype": "text/x-python",
   "name": "python",
   "nbconvert_exporter": "python",
   "pygments_lexer": "ipython3",
   "version": "3.12.3"
  }
 },
 "nbformat": 4,
 "nbformat_minor": 2
}
